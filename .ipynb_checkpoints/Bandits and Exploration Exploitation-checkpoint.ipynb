{
 "cells": [
  {
   "cell_type": "code",
   "execution_count": 1,
   "metadata": {},
   "outputs": [],
   "source": [
    "# encoding = utf-8\n",
    "# Author: Silk-Road\n",
    "# Date: 2021-01-01\n",
    "# Email: swami.liu@outlook.com\n",
    "# Last modified by: Silk-Road\n",
    "# Last modified time: 2021-01-03"
   ]
  },
  {
   "cell_type": "code",
   "execution_count": 2,
   "metadata": {},
   "outputs": [
    {
     "name": "stdout",
     "output_type": "stream",
     "text": [
      "Julia Version 1.5.3\n",
      "Commit 788b2c77c1 (2020-11-09 13:37 UTC)\n",
      "Platform Info:\n",
      "  OS: macOS (x86_64-apple-darwin18.7.0)\n",
      "  CPU: Intel(R) Core(TM) i5-5257U CPU @ 2.70GHz\n",
      "  WORD_SIZE: 64\n",
      "  LIBM: libopenlibm\n",
      "  LLVM: libLLVM-9.0.1 (ORCJIT, broadwell)\n",
      "Environment:\n",
      "  JULIA_PKG_SERVER = pkg.juliahub.com\n",
      "  JULIA_DEPOT_PATH = /Users/swami/.julia:/Applications/JuliaPro-1.5.3-1.app/Contents/Resources/julia/Contents/Resources/julia/local/share/julia:/Applications/JuliaPro-1.5.3-1.app/Contents/Resources/julia/Contents/Resources/julia/share/julia\n",
      "  JULIA_LOAD_PATH = /Users/swami/.julia/environments/JuliaPro_v1.5.3-1:@:@v#.#:@stdlib\n"
     ]
    }
   ],
   "source": [
    "versioninfo()"
   ]
  },
  {
   "cell_type": "code",
   "execution_count": 3,
   "metadata": {},
   "outputs": [
    {
     "data": {
      "text/html": [
       "<script>\n",
       "// Immediately-invoked-function-expression to avoid global variables.\n",
       "(function() {\n",
       "    var warning_div = document.getElementById(\"webio-warning-5540691944266225221\");\n",
       "    var hide = function () {\n",
       "        var script = document.getElementById(\"webio-setup-4098536158144863212\");\n",
       "        var parent = script && script.parentElement;\n",
       "        var grandparent = parent && parent.parentElement;\n",
       "        if (grandparent) {\n",
       "            grandparent.style.display = \"none\";\n",
       "        }\n",
       "        warning_div.style.display = \"none\";\n",
       "    };\n",
       "    if (typeof Jupyter !== \"undefined\") {\n",
       "        console.log(\"WebIO detected Jupyter notebook environment.\");\n",
       "        // Jupyter notebook.\n",
       "        var extensions = (\n",
       "            Jupyter\n",
       "            && Jupyter.notebook.config.data\n",
       "            && Jupyter.notebook.config.data.load_extensions\n",
       "        );\n",
       "        if (extensions && extensions[\"webio-jupyter-notebook\"]) {\n",
       "            // Extension already loaded.\n",
       "            console.log(\"Jupyter WebIO nbextension detected; not loading ad-hoc.\");\n",
       "            hide();\n",
       "            return;\n",
       "        }\n",
       "    } else if (window.location.pathname.includes(\"/lab\")) {\n",
       "        // Guessing JupyterLa\n",
       "        console.log(\"Jupyter Lab detected; make sure the @webio/jupyter-lab-provider labextension is installed.\");\n",
       "        hide();\n",
       "        return;\n",
       "    }\n",
       "})();\n",
       "\n",
       "</script>\n",
       "<p\n",
       "    id=\"webio-warning-5540691944266225221\"\n",
       "    class=\"output_text output_stderr\"\n",
       "    style=\"padding: 1em; font-weight: bold;\"\n",
       ">\n",
       "    Unable to load WebIO. Please make sure WebIO works for your Jupyter client.\n",
       "    For troubleshooting, please see <a href=\"https://juliagizmos.github.io/WebIO.jl/latest/providers/ijulia/\">\n",
       "    the WebIO/IJulia documentation</a>.\n",
       "    <!-- TODO: link to installation docs. -->\n",
       "</p>\n"
      ],
      "text/plain": [
       "HTML{String}(\"<script>\\n// Immediately-invoked-function-expression to avoid global variables.\\n(function() {\\n    var warning_div = document.getElementById(\\\"webio-warning-5540691944266225221\\\");\\n    var hide = function () {\\n        var script = document.getElementById(\\\"webio-setup-4098536158144863212\\\");\\n        var parent = script && script.parentElement;\\n        var grandparent = parent && parent.parentElement;\\n        if (grandparent) {\\n            grandparent.style.display = \\\"none\\\";\\n        }\\n        warning_div.style.display = \\\"none\\\";\\n    };\\n    if (typeof Jupyter !== \\\"undefined\\\") {\\n        console.log(\\\"WebIO detected Jupyter notebook environment.\\\");\\n        // Jupyter notebook.\\n        var extensions = (\\n            Jupyter\\n            && Jupyter.notebook.config.data\\n            && Jupyter.notebook.config.data.load_extensions\\n        );\\n        if (extensions && extensions[\\\"webio-jupyter-notebook\\\"]) {\\n            // Extension already loaded.\\n            console.log(\\\"Jupyter WebIO nbextension detected; not loading ad-hoc.\\\");\\n            hide();\\n            return;\\n        }\\n    } else if (window.location.pathname.includes(\\\"/lab\\\")) {\\n        // Guessing JupyterLa\\n        console.log(\\\"Jupyter Lab detected; make sure the @webio/jupyter-lab-provider labextension is installed.\\\");\\n        hide();\\n        return;\\n    }\\n})();\\n\\n</script>\\n<p\\n    id=\\\"webio-warning-5540691944266225221\\\"\\n    class=\\\"output_text output_stderr\\\"\\n    style=\\\"padding: 1em; font-weight: bold;\\\"\\n>\\n    Unable to load WebIO. Please make sure WebIO works for your Jupyter client.\\n    For troubleshooting, please see <a href=\\\"https://juliagizmos.github.io/WebIO.jl/latest/providers/ijulia/\\\">\\n    the WebIO/IJulia documentation</a>.\\n    <!-- TODO: link to installation docs. -->\\n</p>\\n\")"
      ]
     },
     "metadata": {},
     "output_type": "display_data"
    },
    {
     "data": {
      "text/plain": [
       "argmax (generic function with 1 method)"
      ]
     },
     "execution_count": 3,
     "metadata": {},
     "output_type": "execute_result"
    }
   ],
   "source": [
    "using StatsBase\n",
    "using PyCall\n",
    "using Random\n",
    "using StatsPlots\n",
    "using Interact\n",
    "plt = pyimport(\"matplotlib.pyplot\")\n",
    "np = pyimport(\"numpy\")\n",
    "\n",
    "include(\"rl_glue.jl\")\n",
    "include(\"main_agent.jl\")\n",
    "include(\"ten_arm_env.jl\")\n",
    "include(\"utils.jl\")"
   ]
  },
  {
   "cell_type": "markdown",
   "metadata": {},
   "source": [
    "## Section 1: Greedy Agent\n",
    "\n",
    "We want to create an agent that will find the action with the highest expected reward. One way an agent could operate is to always choose the action with  the highest value based on the agent’s current estimates. This is called a greedy agent as it greedily chooses the action that it thinks has the highest value. Let's look at what happens in this case."
   ]
  },
  {
   "cell_type": "code",
   "execution_count": 4,
   "metadata": {},
   "outputs": [],
   "source": [
    "function argmax(q_values)\n",
    "    top = -Inf\n",
    "    ties = []\n",
    "\n",
    "    for i in 1:length(q_values)\n",
    "        if q_values[i] > top\n",
    "            top = q_values[i]\n",
    "            ties = []\n",
    "        end\n",
    "        if q_values[i] == top\n",
    "            append!(ties, i)\n",
    "        end\n",
    "    end\n",
    "    return sample(ties)\n",
    "end\n",
    "\n",
    "# Test `argmax` implementation\n",
    "test_array  = [0,0,0,0,0,0,0,0,1,0]\n",
    "\n",
    "@assert argmax(test_array) == 9 \"There is something wrong in `argmax` function\"\n"
   ]
  },
  {
   "cell_type": "markdown",
   "metadata": {},
   "source": [
    "Now we introduce the first part of an RL-Glue agent that you will implement. Here we are going to create a GreedyAgent and implement the agent_step method. This method gets called each time the agent takes a step. The method has to return the action selected by the agent. This method also ensures the agent’s estimates are updated based on the signals it gets from the environment."
   ]
  },
  {
   "cell_type": "code",
   "execution_count": 5,
   "metadata": {},
   "outputs": [
    {
     "data": {
      "text/plain": [
       "agent_message (generic function with 2 methods)"
      ]
     },
     "execution_count": 5,
     "metadata": {},
     "output_type": "execute_result"
    }
   ],
   "source": [
    "mutable struct GreedyAgent<:BaseAgent\n",
    "    last_action\n",
    "    num_actions\n",
    "    q_values\n",
    "    step_size\n",
    "    epsilon\n",
    "    initial_value\n",
    "    arm_count\n",
    "    current_action\n",
    "    function GreedyAgent(;last_action=Nothing, num_actions = Nothing, q_values = Nothing,\n",
    "                   step_size = Nothing, epsilon = Nothing, current_action = Nothing,\n",
    "                   initial_value=0.0, arm_count=zeros(10))\n",
    "        agent = new()\n",
    "        agent.last_action=last_action\n",
    "        agent.num_actions = num_actions\n",
    "        agent.q_values = q_values\n",
    "        agent.step_size = step_size\n",
    "        agent.epsilon = epsilon\n",
    "        agent.current_action = current_action\n",
    "        agent.initial_value = initial_value\n",
    "        agent.arm_count = arm_count\n",
    "        agent\n",
    "    end\n",
    "end\n",
    "\n",
    "function agent_init(agent::GreedyAgent; agent_info=Dict())\n",
    "    agent.num_actions = get(agent_info, \"num_actions\", 2)\n",
    "    agent.initial_value = get(agent_info, \"initial_value\", 0.0)\n",
    "    agent.q_values = ones(Int(get(agent_info, \"num_actions\", 2)))*agent.initial_value\n",
    "    agent.step_size = get(agent_info, \"step_size\", 0.1)\n",
    "    agent.epsilon = get(agent_info, \"epsilon\", 0.0)\n",
    "    agent.last_action = 0\n",
    "    return agent\n",
    "end\n",
    "\n",
    "function agent_start(agent::GreedyAgent, observation)\n",
    "    # StatsBase:sample == np.random.choice\n",
    "    agent.last_action = sample(1:agent.num_actions) # set first action to 0\n",
    "    return agent.last_action\n",
    "end\n",
    "\n",
    "function agent_start(agent::GreedyAgent)\n",
    "    # StatsBase:sample == np.random.choice\n",
    "    agent.last_action = sample(1:agent.num_actions) # set first action to 0\n",
    "    return agent.last_action\n",
    "end\n",
    "\n",
    "function agent_step(agent::GreedyAgent, reward, observation)\n",
    "    # local_action = 0 # choose the action here\n",
    "\n",
    "    #agent.last_action = sample(0:(agent.num_actions-1))\n",
    "    current_action = agent.last_action\n",
    "    agent.arm_count[current_action] = agent.arm_count[current_action] + 1\n",
    "    agent.q_values[current_action] = agent.q_values[current_action] +\n",
    "                                        1/agent.arm_count[current_action] *\n",
    "                                        (reward - agent.q_values[current_action])\n",
    "    current_action = argmax(agent.q_values)\n",
    "    agent.last_action = current_action\n",
    "    return current_action\n",
    "end\n",
    "\n",
    "\n",
    "function agent_end(agent::GreedyAgent, reward)\n",
    "end\n",
    "\n",
    "function agent_cleanup(agent::GreedyAgent)\n",
    "end\n",
    "\n",
    "\n",
    "function agent_message(agent::GreedyAgent, message)\n",
    "end"
   ]
  },
  {
   "cell_type": "code",
   "execution_count": 6,
   "metadata": {},
   "outputs": [
    {
     "name": "stdout",
     "output_type": "stream",
     "text": [
      "3\n",
      "[0.0, 0.5, 1.0, 0.0, 0.0]\n",
      "Output:\n",
      "[0.0, 0.5, 1.0, 0.0, 0.0]\n",
      "Expected Output:\n",
      "[0.0, 0.5, 1.0, 0.0, 0.0]\n"
     ]
    }
   ],
   "source": [
    "# Test for Greedy Agent Code\n",
    "greedy_agent = GreedyAgent()\n",
    "greedy_agent.q_values = [0,0,1.0,0,0]\n",
    "greedy_agent.arm_count = [0,1,0,0,0]\n",
    "greedy_agent.last_action = 2 \n",
    "\n",
    "action = agent_step(greedy_agent, 1,0)\n",
    "println(action)\n",
    "println(greedy_agent.q_values)\n",
    "\n",
    "println(\"Output:\")\n",
    "println(greedy_agent.q_values)\n",
    "println(\"Expected Output:\")\n",
    "println([0, 0.5, 1.0, 0, 0])\n",
    "\n",
    "@assert action == 3 \"Check that you are using argmax to choose the action with the highest value.\"\n",
    "@assert greedy_agent.q_values == [0, 0.5, 1.0, 0, 0] \"Check that you are updating q_values correctly.\""
   ]
  },
  {
   "cell_type": "markdown",
   "metadata": {},
   "source": [
    "Let's visualize the result. Here we run an experiment using RL-Glue to test our agent. For now, we will set up the experiment code; in future lessons, we will walk you through running experiments so that you can create your own."
   ]
  },
  {
   "cell_type": "code",
   "execution_count": 7,
   "metadata": {},
   "outputs": [],
   "source": [
    "# Plot Greedy Result\n",
    "num_runs = 200                       # The number of times we run the experiment\n",
    "num_steps = 1000                     # The number of steps each experiment is run\n",
    "env = Environment                    # The environment to use\n",
    "agent = GreedyAgent                  # Choose what agent we want to use\n",
    "agent_info = Dict(\"num_actions\"=>10) # Pass the agent the information it needs\n",
    "                                     # here it just needs the number of actions (number of arms)\n",
    "env_info = Dict()\n",
    "all_averages = []\n",
    "\n",
    "for i in 1:num_runs\n",
    "    rl_glue = RLGlue(Environment, GreedyAgent) # Create a new RLGlue  experiment with the env and agent we choose above\n",
    "    #rl_init(rl_glue, agent_info, env_info)     # Pass RLGlue what it needs to initialize the agent and enviromnet\n",
    "    rl_start(rl_glue)                          # Start the experiment\n",
    "\n",
    "    scores = [0.0]\n",
    "    averages = []\n",
    "    for i in 1:num_steps\n",
    "        reward , _, action, _ =rl_step(rl_glue)  # The enviroment and agent take a step and return the reward, and action taken\n",
    "\n",
    "        append!(scores, scores[end]+reward)\n",
    "        append!(averages, scores[end]/(i+1))\n",
    "    end\n",
    "    append!(all_averages, [averages])\n",
    "end\n"
   ]
  },
  {
   "cell_type": "code",
   "execution_count": 8,
   "metadata": {},
   "outputs": [
    {
     "ename": "LoadError",
     "evalue": "LoadError: @manipulate syntax is @manipulate for  [<variable>=<domain>,]... <expression> end\nin expression starting at In[8]:7",
     "output_type": "error",
     "traceback": [
      "LoadError: @manipulate syntax is @manipulate for  [<variable>=<domain>,]... <expression> end\nin expression starting at In[8]:7",
      "",
      "Stacktrace:",
      " [1] error(::String, ::String) at ./error.jl:42",
      " [2] @manipulate(::LineNumberNode, ::Module, ::Vararg{Any,N} where N) at /Users/swami/.julia/packages/Widgets/451tD/src/manipulate.jl:76",
      " [3] include_string(::Function, ::Module, ::String, ::String) at ./loading.jl:1091",
      " [4] execute_code(::String, ::String) at /Users/swami/.julia/packages/IJulia/a1SNk/src/execute_request.jl:27",
      " [5] execute_request(::ZMQ.Socket, ::IJulia.Msg) at /Users/swami/.julia/packages/IJulia/a1SNk/src/execute_request.jl:86",
      " [6] #invokelatest#1 at ./essentials.jl:710 [inlined]",
      " [7] invokelatest at ./essentials.jl:709 [inlined]",
      " [8] eventloop(::ZMQ.Socket) at /Users/swami/.julia/packages/IJulia/a1SNk/src/eventloop.jl:8",
      " [9] (::IJulia.var\"#15#18\")() at ./task.jl:356"
     ]
    }
   ],
   "source": [
    "plt.plot([1.0 for _ in 1:num_steps], linestyle=\"--\")\n",
    "plt.plot(mean(all_averages))\n",
    "plt.legend([\"Best Possible\", \"Greedy\"])\n",
    "plt.title(\"Average Reward of Greedy Agent\")\n",
    "plt.xlabel(\"Steps\")\n",
    "plt.ylabel(\"Average reward\")\n",
    "plt.show()\n",
    "greedy_scores = mean(all_averages)"
   ]
  },
  {
   "cell_type": "code",
   "execution_count": null,
   "metadata": {},
   "outputs": [],
   "source": []
  }
 ],
 "metadata": {
  "kernelspec": {
   "display_name": "JuliaPro_v1.5.3-1 1.5.3",
   "language": "julia",
   "name": "juliapro_v1.5.3-1-1.5"
  },
  "language_info": {
   "file_extension": ".jl",
   "mimetype": "application/julia",
   "name": "julia",
   "version": "1.5.3"
  }
 },
 "nbformat": 4,
 "nbformat_minor": 4
}
